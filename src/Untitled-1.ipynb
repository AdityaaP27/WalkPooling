{
 "cells": [
  {
   "cell_type": "code",
   "execution_count": 7,
   "metadata": {},
   "outputs": [
    {
     "name": "stdout",
     "output_type": "stream",
     "text": [
      "Original 2D array:\n",
      "(3, 3)\n",
      "\n",
      "Expanded to 3D array:\n",
      "(3, 3, 1)\n",
      "\n",
      "Argmax along the third dimension:\n",
      "(3, 3)\n"
     ]
    }
   ],
   "source": [
    "import numpy as np\n",
    "\n",
    "# Your 2D array\n",
    "array_2d = np.array([[1, 2, 3],\n",
    "                    [4, 5, 6],\n",
    "                    [7, 8, 9]])\n",
    "\n",
    "# Expand dimensions to make it 3D\n",
    "array_3d = np.expand_dims(array_2d, axis=2)\n",
    "\n",
    "# Now you can use np.argmax along the third dimension (axis=2)\n",
    "argmax_result = np.argmax(array_3d, axis=2)\n",
    "\n",
    "print(\"Original 2D array:\")\n",
    "print(array_2d.shape)\n",
    "print(\"\\nExpanded to 3D array:\")\n",
    "print(array_3d.shape)\n",
    "print(\"\\nArgmax along the third dimension:\")\n",
    "print(argmax_result.shape)\n"
   ]
  },
  {
   "cell_type": "code",
   "execution_count": null,
   "metadata": {},
   "outputs": [],
   "source": []
  }
 ],
 "metadata": {
  "kernelspec": {
   "display_name": "pytorch_env",
   "language": "python",
   "name": "python3"
  },
  "language_info": {
   "codemirror_mode": {
    "name": "ipython",
    "version": 3
   },
   "file_extension": ".py",
   "mimetype": "text/x-python",
   "name": "python",
   "nbconvert_exporter": "python",
   "pygments_lexer": "ipython3",
   "version": "3.10.12"
  }
 },
 "nbformat": 4,
 "nbformat_minor": 2
}
